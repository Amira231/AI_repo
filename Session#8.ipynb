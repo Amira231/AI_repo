{
 "cells": [
  {
   "cell_type": "code",
   "execution_count": 1,
   "id": "3794e31d",
   "metadata": {},
   "outputs": [],
   "source": [
    "# Why and how to use protedcted visibility in python?\n",
    "# Protected members of a class are accessible from within the class and are also available to its sub-classes. \n",
    "# No other environment is permitted access to it. This enables specific resources of the parent class to be inherited by the\n",
    "# child class. Python's convention to make an instance variable protected is to add a prefix _ (single underscore) to it. \n",
    "# This effectively prevents it from being accessed unless it is from within a sub-class.\n",
    "# Variables, methods, and constructors, which are declared protected in a superclass can be accessed only by the subclasses \n",
    "# in other package or any class within the package of the protected members' class. \n",
    "# The protected access modifier cannot be applied to class and interfaces."
   ]
  },
  {
   "cell_type": "code",
   "execution_count": 2,
   "id": "6460aa07",
   "metadata": {},
   "outputs": [],
   "source": [
    "class Employee:\n",
    "    \n",
    "    def __init__(self, name, sal):\n",
    "        self._name = name;   # protected attribute \n",
    "        self._sal = sal;     # protected attribute"
   ]
  },
  {
   "cell_type": "code",
   "execution_count": 3,
   "id": "3f18f83a",
   "metadata": {},
   "outputs": [],
   "source": [
    "# How to access private data in super class from sub class?\n",
    "# Private\n",
    "#These members are only accessible from within the class. No outside Access is allowed.\n",
    "# To access the private members of the superclass we need to use setter and getter methods and call them using the subclass \n",
    "# object."
   ]
  },
  {
   "cell_type": "code",
   "execution_count": 5,
   "id": "1919e854",
   "metadata": {},
   "outputs": [],
   "source": []
  },
  {
   "cell_type": "code",
   "execution_count": null,
   "id": "d4d68f5d",
   "metadata": {},
   "outputs": [],
   "source": []
  },
  {
   "cell_type": "code",
   "execution_count": null,
   "id": "294cf203",
   "metadata": {},
   "outputs": [],
   "source": []
  }
 ],
 "metadata": {
  "kernelspec": {
   "display_name": "Python 3 (ipykernel)",
   "language": "python",
   "name": "python3"
  },
  "language_info": {
   "codemirror_mode": {
    "name": "ipython",
    "version": 3
   },
   "file_extension": ".py",
   "mimetype": "text/x-python",
   "name": "python",
   "nbconvert_exporter": "python",
   "pygments_lexer": "ipython3",
   "version": "3.9.12"
  }
 },
 "nbformat": 4,
 "nbformat_minor": 5
}
