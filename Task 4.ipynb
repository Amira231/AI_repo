{
 "cells": [
  {
   "cell_type": "code",
   "execution_count": 1,
   "id": "dd7c31e6",
   "metadata": {},
   "outputs": [],
   "source": [
    "# 1. how to sort dictionary by key python: \n",
    "# To sort dictionary key in python we can use dict. items() and sorted(iterable) method. "
   ]
  },
  {
   "cell_type": "code",
   "execution_count": 3,
   "id": "0b6bebc2",
   "metadata": {},
   "outputs": [],
   "source": [
    "a = {\"name\": \"Ahmed\", \"Age\": 40, \"phonenumber\": 123456789}"
   ]
  },
  {
   "cell_type": "code",
   "execution_count": 4,
   "id": "08eff685",
   "metadata": {},
   "outputs": [
    {
     "name": "stdout",
     "output_type": "stream",
     "text": [
      "[('Age', 40), ('name', 'Ahmed'), ('phonenumber', 123456789)]\n"
     ]
    }
   ],
   "source": [
    "sort_keys = a.items()\n",
    "new_items= sorted(sort_keys)\n",
    "print(new_items)"
   ]
  },
  {
   "cell_type": "code",
   "execution_count": 5,
   "id": "119aa0c5",
   "metadata": {},
   "outputs": [],
   "source": [
    "#6. Implement Unordered/Multi set in Python"
   ]
  },
  {
   "cell_type": "code",
   "execution_count": 6,
   "id": "a0fed430",
   "metadata": {},
   "outputs": [
    {
     "name": "stdout",
     "output_type": "stream",
     "text": [
      "Collecting multiset\n",
      "  Downloading multiset-3.0.1-py2.py3-none-any.whl (9.6 kB)\n",
      "Installing collected packages: multiset\n",
      "Successfully installed multiset-3.0.1\n",
      "Note: you may need to restart the kernel to use updated packages.\n"
     ]
    }
   ],
   "source": [
    "pip install multiset"
   ]
  },
  {
   "cell_type": "code",
   "execution_count": 7,
   "id": "14a05be6",
   "metadata": {},
   "outputs": [],
   "source": [
    "from multiset import*"
   ]
  },
  {
   "cell_type": "code",
   "execution_count": 9,
   "id": "879bf353",
   "metadata": {},
   "outputs": [
    {
     "name": "stdout",
     "output_type": "stream",
     "text": [
      "{}\n"
     ]
    }
   ],
   "source": [
    "print(Multiset()) # print empty multiset"
   ]
  },
  {
   "cell_type": "code",
   "execution_count": 12,
   "id": "d6e33e18",
   "metadata": {},
   "outputs": [
    {
     "name": "stdout",
     "output_type": "stream",
     "text": [
      "{1, 2, 3, 4, 5, 6}\n"
     ]
    }
   ],
   "source": [
    "print(Multiset('123456')) # print multiset from iterable"
   ]
  },
  {
   "cell_type": "code",
   "execution_count": 13,
   "id": "f4ee24e8",
   "metadata": {},
   "outputs": [
    {
     "name": "stdout",
     "output_type": "stream",
     "text": [
      "{1, 1, 1, 1, 7, 7, 6, 6, 6, 5}\n"
     ]
    }
   ],
   "source": [
    "print(Multiset({'1': 4, '7': 2, '6': 3, '5':1})) # print multiset from mapping"
   ]
  },
  {
   "cell_type": "code",
   "execution_count": null,
   "id": "0b43edb5",
   "metadata": {},
   "outputs": [],
   "source": []
  }
 ],
 "metadata": {
  "kernelspec": {
   "display_name": "Python 3 (ipykernel)",
   "language": "python",
   "name": "python3"
  },
  "language_info": {
   "codemirror_mode": {
    "name": "ipython",
    "version": 3
   },
   "file_extension": ".py",
   "mimetype": "text/x-python",
   "name": "python",
   "nbconvert_exporter": "python",
   "pygments_lexer": "ipython3",
   "version": "3.9.12"
  }
 },
 "nbformat": 4,
 "nbformat_minor": 5
}
