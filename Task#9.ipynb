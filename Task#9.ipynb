{
 "cells": [
  {
   "cell_type": "markdown",
   "id": "e28de966",
   "metadata": {},
   "source": [
    "1. What is a ternary search?\n",
    "Ternary search is a searching technique used to find out the position of any given element in a sorted array. While the array is divided into two parts for binary search where just one mid element is used, ternary search requires the array to be divided into three parts and has two mid elements.\n",
    "Like linear search and binary search, ternary search is a searching technique that is used to determine the position of a specific value in an array. In binary search, the sorted array is divided into two parts while in ternary search, it is divided into 3 parts and then you determine in which part the element exists.\n",
    "\n",
    "Ternary search, like binary search, is a divide-and-conquer algorithm. It is mandatory for the array to be sorted before  starting the search. In this search, after each iteration it neglects \n",
    "1/3 part of the array and repeats the same operations on the remaining 2/3.\n",
    "\n",
    "2. What are the most common design patterns?\n",
    "Most Frequently Used Design Patterns in Software Development\n",
    "    1. Agile model\n",
    "       Agile is a software development approach which deliver software to end users quickly by assigning the required work into        time-constrained development cycles called “iterations.”, after software rolls out to end users, collect feedback to            evaluate the success of the software, then adjust the software based on the feedback to continually improve it for end          users. A key agile concept is that software doesn’t have to be a complete product before the deployment phase. You              simply need to deliver a usable component that incrementally builds up through each iteration into the final product.          For instance, your software app may plan to have five features. With agile, you build and release each feature after            it’s coded and tested. In this way, you know if any of the features are not fulfilling end user needs sooner than if you        had waited to build all five first.\n",
    "     2. Scrum model\n",
    "        Scrum is one of the most widely-used agile software development methods. It translates the agile principles into a             repeatable structure of concrete execution steps. Scrum integrates the project management triangle's three constraints         of time, cost, and scope into a time-constrained development period called a “sprint.” The team must complete all SDLC         phases within the sprint time frame. If a task requires more time, it wasn’t broken down into the smallest possible             unit of work. Scrum relies on a scrum master to oversee the agile ceremonies and shepherd the team toward project               goals. \n",
    "      3. Kanban model\n",
    "         Like scrum, kanban is an agile approach. It streamlines the execution of software development by achieving a high degree of efficiency. Kanban uses a project board to organize tasks into workflow steps. These steps represent the SDLC phases with each team member responsible for work in specific phases.For example, a kanban board can divide the SDLC workflow into a coding phase, executed by software engineers, and a testing phase, performed by QA personnel. Digital cards describe each task.\n",
    "       4. Waterfall model\n",
    "          The waterfall methodology is a common project management approach adapted to software development. Its name describes the process.You build software in a predefined sequence of steps one after the other like flowing water. And like a waterfall, you can’t do the steps out of order or go back; water only flows one way.Since the process is linear, the waterfall model encapsulates the SDLC phases well. After all, you can’t test software until it’s coded.\n",
    "       5. DevOps model\n",
    "          It’s a combination of the terms “development” and “operations,” and represents a newer approach to the software development cycle. In the past, software developers built software in isolation. An operations team, responsible for IT infrastructure, such as the servers housing your software, helped only when necessary. Now, development teams realize an IT operations group should participate in the SDLC from the start. This allows both teams to coordinate efforts more effectively.\n",
    "Operations teams also support newer development approaches such as continuous integration, where developers submit new code into a repository, and systems automatically check and integrate it into the existing code base.DevOps is a natural progression of the SDLC framework.\n",
    "\n",
    "3. Used tools in DevOps\n",
    "   1. Gradle\n",
    "   2. Git\n",
    "   3. Jenkins\n",
    "   4. Bamboo\n",
    "   5. Docker\n",
    "   6. Kubernetes\n",
    "   7. Ansible\n",
    "   8. Raygun\n",
    "   9. Nagios\n",
    "   10. Puppet Enterprise\n",
    "        "
   ]
  }
 ],
 "metadata": {
  "kernelspec": {
   "display_name": "Python 3 (ipykernel)",
   "language": "python",
   "name": "python3"
  },
  "language_info": {
   "codemirror_mode": {
    "name": "ipython",
    "version": 3
   },
   "file_extension": ".py",
   "mimetype": "text/x-python",
   "name": "python",
   "nbconvert_exporter": "python",
   "pygments_lexer": "ipython3",
   "version": "3.9.12"
  }
 },
 "nbformat": 4,
 "nbformat_minor": 5
}
