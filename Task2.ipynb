{
 "cells": [
  {
   "cell_type": "code",
   "execution_count": 7,
   "id": "a9fa3f5c",
   "metadata": {},
   "outputs": [
    {
     "name": "stdout",
     "output_type": "stream",
     "text": [
      "1505\n",
      "1540\n",
      "1575\n",
      "1610\n",
      "1645\n",
      "1680\n",
      "1715\n",
      "1750\n",
      "1785\n",
      "1820\n",
      "1855\n",
      "1890\n",
      "1925\n",
      "1960\n",
      "1995\n",
      "2030\n",
      "2065\n",
      "2100\n",
      "2135\n",
      "2170\n",
      "2205\n",
      "2240\n",
      "2275\n",
      "2310\n",
      "2345\n",
      "2380\n",
      "2415\n",
      "2450\n",
      "2485\n",
      "2520\n",
      "2555\n",
      "2590\n",
      "2625\n",
      "2660\n",
      "2695\n"
     ]
    }
   ],
   "source": [
    "for i in range(1500, 2701):\n",
    "    if (i%7==0) and (i%5==0):\n",
    "        print(i)"
   ]
  },
  {
   "cell_type": "code",
   "execution_count": 10,
   "id": "d0d9b832",
   "metadata": {},
   "outputs": [
    {
     "name": "stdout",
     "output_type": "stream",
     "text": [
      "enter temperature to convert celsius to fahrenheit:30\n",
      "the tempperature in fahrenheit is:  86.0\n",
      "enter temperature to convert fahrenheit to  celsius:100\n",
      "the tempperature in celsius is:  30.0\n"
     ]
    }
   ],
   "source": [
    "c = float(input(\"enter temperature to convert celsius to fahrenheit:\"))\n",
    "f = (9*c + (32 * 5)) / 5\n",
    "print (\"the tempperature in fahrenheit is: \", f)\n",
    "\n",
    "t = float(input(\"enter temperature to convert fahrenheit to  celsius:\"))\n",
    "t2 = (5*(t-32))/9\n",
    "print (\"the tempperature in celsius is: \", c)\n"
   ]
  },
  {
   "cell_type": "code",
   "execution_count": 13,
   "id": "be5596fc",
   "metadata": {},
   "outputs": [
    {
     "ename": "SyntaxError",
     "evalue": "invalid syntax (2745328844.py, line 2)",
     "output_type": "error",
     "traceback": [
      "\u001b[1;36m  Input \u001b[1;32mIn [13]\u001b[1;36m\u001b[0m\n\u001b[1;33m    for i in range (len(word-1),0,-1)\u001b[0m\n\u001b[1;37m                                     ^\u001b[0m\n\u001b[1;31mSyntaxError\u001b[0m\u001b[1;31m:\u001b[0m invalid syntax\n"
     ]
    }
   ],
   "source": [
    "word = (input(\"enter a word:\"))\n",
    "for i in range (len(word-1),0,-1)\n",
    "rev = word[i]\n",
    "print (rev)\n"
   ]
  },
  {
   "cell_type": "code",
   "execution_count": null,
   "id": "a2a80828",
   "metadata": {},
   "outputs": [],
   "source": [
    "l = []\n",
    "sum = 0\n",
    "for i in range (o, len(l)):\n",
    "    sum+=l[i]\n",
    "    \n",
    "print(sum)\n"
   ]
  },
  {
   "cell_type": "code",
   "execution_count": 20,
   "id": "2c825054",
   "metadata": {},
   "outputs": [
    {
     "name": "stdout",
     "output_type": "stream",
     "text": [
      "Enter three numbers:\n",
      "enter first number:5\n",
      "enter second number:20\n",
      "enter third number:3\n"
     ]
    },
    {
     "data": {
      "text/plain": [
       "'5'"
      ]
     },
     "execution_count": 20,
     "metadata": {},
     "output_type": "execute_result"
    }
   ],
   "source": [
    "print (\"Enter three numbers:\")\n",
    "n1 = (input(\"enter first number:\"))\n",
    "n2 = (input(\"enter second number:\"))\n",
    "n3 = (input(\"enter third number:\"))\n",
    "\n",
    "def max(n1, n2, n3):\n",
    "    if n1 > n2 and n1 > n3:\n",
    "        return n1       \n",
    "    \n",
    "    elif n2>n1 and n2>n3:\n",
    "        return n2\n",
    "    \n",
    "    elif n3>n1 and n3>n2:\n",
    "            return n3\n",
    "    else:\n",
    "        print(\"three numbers are equal\")\n",
    "    \n",
    "\n",
    "max(n1,n2,n3)"
   ]
  },
  {
   "cell_type": "code",
   "execution_count": 9,
   "id": "736bd74f",
   "metadata": {},
   "outputs": [
    {
     "name": "stdout",
     "output_type": "stream",
     "text": [
      "0\n",
      "1\n",
      "2\n",
      "4\n",
      "5\n"
     ]
    }
   ],
   "source": [
    "for i in range (0 , 7):\n",
    "    if (i ==3 or i ==6):\n",
    "        continue\n",
    "        \n",
    "    print(i)\n"
   ]
  },
  {
   "cell_type": "code",
   "execution_count": 20,
   "id": "5c86991c",
   "metadata": {},
   "outputs": [
    {
     "name": "stdout",
     "output_type": "stream",
     "text": [
      "Enter a number:5\n"
     ]
    },
    {
     "ename": "UnboundLocalError",
     "evalue": "local variable 'fac' referenced before assignment",
     "output_type": "error",
     "traceback": [
      "\u001b[1;31m---------------------------------------------------------------------------\u001b[0m",
      "\u001b[1;31mUnboundLocalError\u001b[0m                         Traceback (most recent call last)",
      "Input \u001b[1;32mIn [20]\u001b[0m, in \u001b[0;36m<cell line: 9>\u001b[1;34m()\u001b[0m\n\u001b[0;32m      5\u001b[0m     \u001b[38;5;28;01mreturn\u001b[39;00m fac\n\u001b[0;32m      7\u001b[0m n1 \u001b[38;5;241m=\u001b[39m \u001b[38;5;28mint\u001b[39m(\u001b[38;5;28minput\u001b[39m(\u001b[38;5;124m\"\u001b[39m\u001b[38;5;124mEnter a number:\u001b[39m\u001b[38;5;124m\"\u001b[39m))    \n\u001b[1;32m----> 9\u001b[0m \u001b[43mfact\u001b[49m\u001b[43m(\u001b[49m\u001b[43mn1\u001b[49m\u001b[43m)\u001b[49m\n",
      "Input \u001b[1;32mIn [20]\u001b[0m, in \u001b[0;36mfact\u001b[1;34m(num)\u001b[0m\n\u001b[0;32m      1\u001b[0m \u001b[38;5;28;01mdef\u001b[39;00m \u001b[38;5;21mfact\u001b[39m(num):\n\u001b[0;32m      2\u001b[0m     \u001b[38;5;28;01mfor\u001b[39;00m x \u001b[38;5;129;01min\u001b[39;00m \u001b[38;5;28mrange\u001b[39m (\u001b[38;5;241m1\u001b[39m , num\u001b[38;5;241m+\u001b[39m\u001b[38;5;241m1\u001b[39m):\n\u001b[1;32m----> 4\u001b[0m         fac \u001b[38;5;241m*\u001b[39m\u001b[38;5;241m=\u001b[39m x\n\u001b[0;32m      5\u001b[0m     \u001b[38;5;28;01mreturn\u001b[39;00m fac\n",
      "\u001b[1;31mUnboundLocalError\u001b[0m: local variable 'fac' referenced before assignment"
     ]
    }
   ],
   "source": [
    "def fact(num):\n",
    "    for x in range (1 , num+1):\n",
    "       \n",
    "        fac *= x\n",
    "    return fac\n",
    "\n",
    "n1 = int(input(\"Enter a number:\"))    \n",
    "    \n",
    "fact(n1)\n",
    "    "
   ]
  },
  {
   "cell_type": "code",
   "execution_count": 24,
   "id": "d16bc70d",
   "metadata": {},
   "outputs": [
    {
     "name": "stdout",
     "output_type": "stream",
     "text": [
      "[5, 8, 6, 4, 2, 1]\n"
     ]
    }
   ],
   "source": [
    "def unique(l):\n",
    "    a = []\n",
    "    for i in l:\n",
    "        if i not in a:\n",
    "            a.append(i)\n",
    "    return a\n",
    "\n",
    "print(unique ([5,5,5,8,6,6,4,2,2,1,1,1]))\n",
    "    "
   ]
  },
  {
   "cell_type": "code",
   "execution_count": null,
   "id": "59e5e222",
   "metadata": {},
   "outputs": [],
   "source": []
  }
 ],
 "metadata": {
  "kernelspec": {
   "display_name": "Python 3 (ipykernel)",
   "language": "python",
   "name": "python3"
  },
  "language_info": {
   "codemirror_mode": {
    "name": "ipython",
    "version": 3
   },
   "file_extension": ".py",
   "mimetype": "text/x-python",
   "name": "python",
   "nbconvert_exporter": "python",
   "pygments_lexer": "ipython3",
   "version": "3.9.12"
  }
 },
 "nbformat": 4,
 "nbformat_minor": 5
}
